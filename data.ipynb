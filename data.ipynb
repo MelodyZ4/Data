{
 "cells": [
  {
   "cell_type": "markdown",
   "metadata": {},
   "source": [
    "## Loading Data"
   ]
  },
  {
   "cell_type": "code",
   "execution_count": 1,
   "metadata": {},
   "outputs": [],
   "source": [
    "import pandas as pd"
   ]
  },
  {
   "cell_type": "code",
   "execution_count": 2,
   "metadata": {},
   "outputs": [],
   "source": [
    "df = pd.read_excel('bjsample1000.xlsx')"
   ]
  },
  {
   "cell_type": "code",
   "execution_count": 3,
   "metadata": {},
   "outputs": [
    {
     "data": {
      "text/html": [
       "<div>\n",
       "<style scoped>\n",
       "    .dataframe tbody tr th:only-of-type {\n",
       "        vertical-align: middle;\n",
       "    }\n",
       "\n",
       "    .dataframe tbody tr th {\n",
       "        vertical-align: top;\n",
       "    }\n",
       "\n",
       "    .dataframe thead th {\n",
       "        text-align: right;\n",
       "    }\n",
       "</style>\n",
       "<table border=\"1\" class=\"dataframe\">\n",
       "  <thead>\n",
       "    <tr style=\"text-align: right;\">\n",
       "      <th></th>\n",
       "      <th>DTUP</th>\n",
       "      <th>SDIST</th>\n",
       "      <th>FAREA</th>\n",
       "      <th>BED</th>\n",
       "      <th>BATH</th>\n",
       "      <th>LIV</th>\n",
       "      <th>DIST_CBD</th>\n",
       "      <th>DIST_CENTER</th>\n",
       "      <th>BN500</th>\n",
       "    </tr>\n",
       "  </thead>\n",
       "  <tbody>\n",
       "    <tr>\n",
       "      <th>0</th>\n",
       "      <td>40886.220</td>\n",
       "      <td>558.33545</td>\n",
       "      <td>131.37</td>\n",
       "      <td>3</td>\n",
       "      <td>2</td>\n",
       "      <td>1</td>\n",
       "      <td>2747.15876</td>\n",
       "      <td>8225.87910</td>\n",
       "      <td>30</td>\n",
       "    </tr>\n",
       "    <tr>\n",
       "      <th>1</th>\n",
       "      <td>27734.275</td>\n",
       "      <td>603.46985</td>\n",
       "      <td>59.59</td>\n",
       "      <td>2</td>\n",
       "      <td>1</td>\n",
       "      <td>0</td>\n",
       "      <td>2463.13235</td>\n",
       "      <td>5455.54550</td>\n",
       "      <td>24</td>\n",
       "    </tr>\n",
       "    <tr>\n",
       "      <th>2</th>\n",
       "      <td>28393.690</td>\n",
       "      <td>865.78906</td>\n",
       "      <td>48.02</td>\n",
       "      <td>1</td>\n",
       "      <td>1</td>\n",
       "      <td>1</td>\n",
       "      <td>8609.97951</td>\n",
       "      <td>5528.21274</td>\n",
       "      <td>67</td>\n",
       "    </tr>\n",
       "    <tr>\n",
       "      <th>3</th>\n",
       "      <td>33236.010</td>\n",
       "      <td>340.77704</td>\n",
       "      <td>135.75</td>\n",
       "      <td>3</td>\n",
       "      <td>2</td>\n",
       "      <td>2</td>\n",
       "      <td>11458.12545</td>\n",
       "      <td>12515.88728</td>\n",
       "      <td>33</td>\n",
       "    </tr>\n",
       "    <tr>\n",
       "      <th>4</th>\n",
       "      <td>33183.953</td>\n",
       "      <td>2037.08520</td>\n",
       "      <td>87.53</td>\n",
       "      <td>2</td>\n",
       "      <td>1</td>\n",
       "      <td>1</td>\n",
       "      <td>10678.96460</td>\n",
       "      <td>15338.37896</td>\n",
       "      <td>6</td>\n",
       "    </tr>\n",
       "  </tbody>\n",
       "</table>\n",
       "</div>"
      ],
      "text/plain": [
       "        DTUP       SDIST   FAREA  BED  BATH  LIV     DIST_CBD  DIST_CENTER  \\\n",
       "0  40886.220   558.33545  131.37    3     2    1   2747.15876   8225.87910   \n",
       "1  27734.275   603.46985   59.59    2     1    0   2463.13235   5455.54550   \n",
       "2  28393.690   865.78906   48.02    1     1    1   8609.97951   5528.21274   \n",
       "3  33236.010   340.77704  135.75    3     2    2  11458.12545  12515.88728   \n",
       "4  33183.953  2037.08520   87.53    2     1    1  10678.96460  15338.37896   \n",
       "\n",
       "   BN500  \n",
       "0     30  \n",
       "1     24  \n",
       "2     67  \n",
       "3     33  \n",
       "4      6  "
      ]
     },
     "execution_count": 3,
     "metadata": {},
     "output_type": "execute_result"
    }
   ],
   "source": [
    "df.head(5)"
   ]
  },
  {
   "cell_type": "code",
   "execution_count": 4,
   "metadata": {},
   "outputs": [
    {
     "data": {
      "text/plain": [
       "(1000, 9)"
      ]
     },
     "execution_count": 4,
     "metadata": {},
     "output_type": "execute_result"
    }
   ],
   "source": [
    "df.shape"
   ]
  },
  {
   "cell_type": "code",
   "execution_count": 5,
   "metadata": {},
   "outputs": [
    {
     "data": {
      "text/plain": [
       "Index(['DTUP', 'SDIST', 'FAREA', 'BED', 'BATH', 'LIV', 'DIST_CBD',\n",
       "       'DIST_CENTER', 'BN500'],\n",
       "      dtype='object')"
      ]
     },
     "execution_count": 5,
     "metadata": {},
     "output_type": "execute_result"
    }
   ],
   "source": [
    "df.columns"
   ]
  },
  {
   "cell_type": "code",
   "execution_count": 7,
   "metadata": {},
   "outputs": [
    {
     "data": {
      "text/plain": [
       "array([3, 2, 1, 4], dtype=int64)"
      ]
     },
     "execution_count": 7,
     "metadata": {},
     "output_type": "execute_result"
    }
   ],
   "source": [
    "df['BED'].unique()"
   ]
  },
  {
   "cell_type": "markdown",
   "metadata": {},
   "source": [
    "## Exploring Data"
   ]
  },
  {
   "cell_type": "code",
   "execution_count": 8,
   "metadata": {},
   "outputs": [
    {
     "data": {
      "text/html": [
       "<div>\n",
       "<style scoped>\n",
       "    .dataframe tbody tr th:only-of-type {\n",
       "        vertical-align: middle;\n",
       "    }\n",
       "\n",
       "    .dataframe tbody tr th {\n",
       "        vertical-align: top;\n",
       "    }\n",
       "\n",
       "    .dataframe thead th {\n",
       "        text-align: right;\n",
       "    }\n",
       "</style>\n",
       "<table border=\"1\" class=\"dataframe\">\n",
       "  <thead>\n",
       "    <tr style=\"text-align: right;\">\n",
       "      <th></th>\n",
       "      <th>DTUP</th>\n",
       "      <th>SDIST</th>\n",
       "      <th>FAREA</th>\n",
       "      <th>BED</th>\n",
       "      <th>BATH</th>\n",
       "      <th>LIV</th>\n",
       "      <th>DIST_CBD</th>\n",
       "      <th>DIST_CENTER</th>\n",
       "      <th>BN500</th>\n",
       "    </tr>\n",
       "  </thead>\n",
       "  <tbody>\n",
       "    <tr>\n",
       "      <th>count</th>\n",
       "      <td>1000.000000</td>\n",
       "      <td>1000.000000</td>\n",
       "      <td>1000.000000</td>\n",
       "      <td>1000.000000</td>\n",
       "      <td>1000.000000</td>\n",
       "      <td>1000.000000</td>\n",
       "      <td>1000.000000</td>\n",
       "      <td>1000.000000</td>\n",
       "      <td>1000.000000</td>\n",
       "    </tr>\n",
       "    <tr>\n",
       "      <th>mean</th>\n",
       "      <td>39559.514878</td>\n",
       "      <td>1072.928137</td>\n",
       "      <td>83.093920</td>\n",
       "      <td>2.008000</td>\n",
       "      <td>1.167000</td>\n",
       "      <td>1.175000</td>\n",
       "      <td>14032.010547</td>\n",
       "      <td>13602.825569</td>\n",
       "      <td>23.498000</td>\n",
       "    </tr>\n",
       "    <tr>\n",
       "      <th>std</th>\n",
       "      <td>15826.308119</td>\n",
       "      <td>1110.323446</td>\n",
       "      <td>32.645346</td>\n",
       "      <td>0.713053</td>\n",
       "      <td>0.399087</td>\n",
       "      <td>0.531656</td>\n",
       "      <td>8136.549782</td>\n",
       "      <td>7718.335350</td>\n",
       "      <td>17.620172</td>\n",
       "    </tr>\n",
       "    <tr>\n",
       "      <th>min</th>\n",
       "      <td>12604.085000</td>\n",
       "      <td>42.986150</td>\n",
       "      <td>18.780000</td>\n",
       "      <td>1.000000</td>\n",
       "      <td>1.000000</td>\n",
       "      <td>0.000000</td>\n",
       "      <td>1115.593230</td>\n",
       "      <td>1454.690820</td>\n",
       "      <td>0.000000</td>\n",
       "    </tr>\n",
       "    <tr>\n",
       "      <th>25%</th>\n",
       "      <td>27798.522500</td>\n",
       "      <td>490.200267</td>\n",
       "      <td>59.597500</td>\n",
       "      <td>2.000000</td>\n",
       "      <td>1.000000</td>\n",
       "      <td>1.000000</td>\n",
       "      <td>8218.439657</td>\n",
       "      <td>7398.410660</td>\n",
       "      <td>11.000000</td>\n",
       "    </tr>\n",
       "    <tr>\n",
       "      <th>50%</th>\n",
       "      <td>36083.148500</td>\n",
       "      <td>750.460750</td>\n",
       "      <td>76.430000</td>\n",
       "      <td>2.000000</td>\n",
       "      <td>1.000000</td>\n",
       "      <td>1.000000</td>\n",
       "      <td>12595.036635</td>\n",
       "      <td>11505.659460</td>\n",
       "      <td>20.000000</td>\n",
       "    </tr>\n",
       "    <tr>\n",
       "      <th>75%</th>\n",
       "      <td>48765.116250</td>\n",
       "      <td>1182.101475</td>\n",
       "      <td>97.420000</td>\n",
       "      <td>2.000000</td>\n",
       "      <td>1.000000</td>\n",
       "      <td>1.000000</td>\n",
       "      <td>19267.782710</td>\n",
       "      <td>18200.842635</td>\n",
       "      <td>33.000000</td>\n",
       "    </tr>\n",
       "    <tr>\n",
       "      <th>max</th>\n",
       "      <td>102117.625000</td>\n",
       "      <td>9496.877000</td>\n",
       "      <td>276.940000</td>\n",
       "      <td>4.000000</td>\n",
       "      <td>3.000000</td>\n",
       "      <td>4.000000</td>\n",
       "      <td>40867.810930</td>\n",
       "      <td>38468.409990</td>\n",
       "      <td>149.000000</td>\n",
       "    </tr>\n",
       "  </tbody>\n",
       "</table>\n",
       "</div>"
      ],
      "text/plain": [
       "                DTUP        SDIST        FAREA          BED         BATH  \\\n",
       "count    1000.000000  1000.000000  1000.000000  1000.000000  1000.000000   \n",
       "mean    39559.514878  1072.928137    83.093920     2.008000     1.167000   \n",
       "std     15826.308119  1110.323446    32.645346     0.713053     0.399087   \n",
       "min     12604.085000    42.986150    18.780000     1.000000     1.000000   \n",
       "25%     27798.522500   490.200267    59.597500     2.000000     1.000000   \n",
       "50%     36083.148500   750.460750    76.430000     2.000000     1.000000   \n",
       "75%     48765.116250  1182.101475    97.420000     2.000000     1.000000   \n",
       "max    102117.625000  9496.877000   276.940000     4.000000     3.000000   \n",
       "\n",
       "               LIV      DIST_CBD   DIST_CENTER        BN500  \n",
       "count  1000.000000   1000.000000   1000.000000  1000.000000  \n",
       "mean      1.175000  14032.010547  13602.825569    23.498000  \n",
       "std       0.531656   8136.549782   7718.335350    17.620172  \n",
       "min       0.000000   1115.593230   1454.690820     0.000000  \n",
       "25%       1.000000   8218.439657   7398.410660    11.000000  \n",
       "50%       1.000000  12595.036635  11505.659460    20.000000  \n",
       "75%       1.000000  19267.782710  18200.842635    33.000000  \n",
       "max       4.000000  40867.810930  38468.409990   149.000000  "
      ]
     },
     "execution_count": 8,
     "metadata": {},
     "output_type": "execute_result"
    }
   ],
   "source": [
    "df.describe()"
   ]
  },
  {
   "cell_type": "code",
   "execution_count": 9,
   "metadata": {},
   "outputs": [
    {
     "data": {
      "text/plain": [
       "<matplotlib.axes._subplots.AxesSubplot at 0x1c81df51788>"
      ]
     },
     "execution_count": 9,
     "metadata": {},
     "output_type": "execute_result"
    },
    {
     "data": {
      "image/png": "[encoded data removed]",
      "text/plain": [
       "<Figure size 432x288 with 1 Axes>"
      ]
     },
     "metadata": {
      "needs_background": "light"
     },
     "output_type": "display_data"
    }
   ],
   "source": [
    "df['DTUP'].plot(kind = 'hist')"
   ]
  },
  {
   "cell_type": "code",
   "execution_count": 10,
   "metadata": {},
   "outputs": [
    {
     "data": {
      "text/html": [
       "<div>\n",
       "<style scoped>\n",
       "    .dataframe tbody tr th:only-of-type {\n",
       "        vertical-align: middle;\n",
       "    }\n",
       "\n",
       "    .dataframe tbody tr th {\n",
       "        vertical-align: top;\n",
       "    }\n",
       "\n",
       "    .dataframe thead th {\n",
       "        text-align: right;\n",
       "    }\n",
       "</style>\n",
       "<table border=\"1\" class=\"dataframe\">\n",
       "  <thead>\n",
       "    <tr style=\"text-align: right;\">\n",
       "      <th></th>\n",
       "      <th>DTUP</th>\n",
       "      <th>SDIST</th>\n",
       "      <th>FAREA</th>\n",
       "      <th>BATH</th>\n",
       "      <th>LIV</th>\n",
       "      <th>DIST_CBD</th>\n",
       "      <th>DIST_CENTER</th>\n",
       "      <th>BN500</th>\n",
       "    </tr>\n",
       "    <tr>\n",
       "      <th>BED</th>\n",
       "      <th></th>\n",
       "      <th></th>\n",
       "      <th></th>\n",
       "      <th></th>\n",
       "      <th></th>\n",
       "      <th></th>\n",
       "      <th></th>\n",
       "      <th></th>\n",
       "    </tr>\n",
       "  </thead>\n",
       "  <tbody>\n",
       "    <tr>\n",
       "      <th>1</th>\n",
       "      <td>42697.513393</td>\n",
       "      <td>958.181755</td>\n",
       "      <td>55.935043</td>\n",
       "      <td>1.017094</td>\n",
       "      <td>0.816239</td>\n",
       "      <td>12416.859847</td>\n",
       "      <td>12653.850674</td>\n",
       "      <td>23.414530</td>\n",
       "    </tr>\n",
       "    <tr>\n",
       "      <th>2</th>\n",
       "      <td>38828.959431</td>\n",
       "      <td>1093.865938</td>\n",
       "      <td>79.849556</td>\n",
       "      <td>1.077778</td>\n",
       "      <td>1.190741</td>\n",
       "      <td>14207.993436</td>\n",
       "      <td>13572.179635</td>\n",
       "      <td>23.914815</td>\n",
       "    </tr>\n",
       "    <tr>\n",
       "      <th>3</th>\n",
       "      <td>38291.331338</td>\n",
       "      <td>1141.085694</td>\n",
       "      <td>113.654857</td>\n",
       "      <td>1.471429</td>\n",
       "      <td>1.476190</td>\n",
       "      <td>15137.990698</td>\n",
       "      <td>14411.285294</td>\n",
       "      <td>22.304762</td>\n",
       "    </tr>\n",
       "    <tr>\n",
       "      <th>4</th>\n",
       "      <td>34967.441875</td>\n",
       "      <td>1149.875259</td>\n",
       "      <td>188.677500</td>\n",
       "      <td>2.375000</td>\n",
       "      <td>1.937500</td>\n",
       "      <td>17198.177525</td>\n",
       "      <td>17904.849803</td>\n",
       "      <td>26.312500</td>\n",
       "    </tr>\n",
       "  </tbody>\n",
       "</table>\n",
       "</div>"
      ],
      "text/plain": [
       "             DTUP        SDIST       FAREA      BATH       LIV      DIST_CBD  \\\n",
       "BED                                                                            \n",
       "1    42697.513393   958.181755   55.935043  1.017094  0.816239  12416.859847   \n",
       "2    38828.959431  1093.865938   79.849556  1.077778  1.190741  14207.993436   \n",
       "3    38291.331338  1141.085694  113.654857  1.471429  1.476190  15137.990698   \n",
       "4    34967.441875  1149.875259  188.677500  2.375000  1.937500  17198.177525   \n",
       "\n",
       "      DIST_CENTER      BN500  \n",
       "BED                           \n",
       "1    12653.850674  23.414530  \n",
       "2    13572.179635  23.914815  \n",
       "3    14411.285294  22.304762  \n",
       "4    17904.849803  26.312500  "
      ]
     },
     "execution_count": 10,
     "metadata": {},
     "output_type": "execute_result"
    }
   ],
   "source": [
    "bed_stat = df.groupby('BED').mean()\n",
    "bed_stat"
   ]
  },
  {
   "cell_type": "code",
   "execution_count": 11,
   "metadata": {},
   "outputs": [
    {
     "data": {
      "text/plain": [
       "<matplotlib.axes._subplots.AxesSubplot at 0x1c81e94aa48>"
      ]
     },
     "execution_count": 11,
     "metadata": {},
     "output_type": "execute_result"
    },
    {
     "data": {
      "image/png": "[encoded data removed]",
      "text/plain": [
       "<Figure size 432x288 with 1 Axes>"
      ]
     },
     "metadata": {
      "needs_background": "light"
     },
     "output_type": "display_data"
    }
   ],
   "source": [
    "bed_stat['DTUP'].plot(kind = 'bar')"
   ]
  },
  {
   "cell_type": "code",
   "execution_count": 12,
   "metadata": {},
   "outputs": [
    {
     "data": {
      "text/plain": [
       "2    540\n",
       "1    234\n",
       "3    210\n",
       "4     16\n",
       "Name: BED, dtype: int64"
      ]
     },
     "execution_count": 12,
     "metadata": {},
     "output_type": "execute_result"
    }
   ],
   "source": [
    "bed_count = df['BED'].value_counts()\n",
    "bed_count"
   ]
  },
  {
   "cell_type": "code",
   "execution_count": 13,
   "metadata": {},
   "outputs": [
    {
     "data": {
      "text/plain": [
       "<matplotlib.axes._subplots.AxesSubplot at 0x1c81d4abac8>"
      ]
     },
     "execution_count": 13,
     "metadata": {},
     "output_type": "execute_result"
    },
    {
     "data": {
      "image/png": "[encoded data removed]",
      "text/plain": [
       "<Figure size 432x288 with 1 Axes>"
      ]
     },
     "metadata": {},
     "output_type": "display_data"
    }
   ],
   "source": [
    "bed_count.plot(kind = 'pie')"
   ]
  },
  {
   "cell_type": "code",
   "execution_count": 19,
   "metadata": {
    "scrolled": true
   },
   "outputs": [
    {
     "data": {
      "text/plain": [
       "<matplotlib.axes._subplots.AxesSubplot at 0x1c81eaf4988>"
      ]
     },
     "execution_count": 19,
     "metadata": {},
     "output_type": "execute_result"
    },
    {
     "data": {
      "image/png": "[encoded data removed]",
      "text/plain": [
       "<Figure size 432x288 with 1 Axes>"
      ]
     },
     "metadata": {
      "needs_background": "light"
     },
     "output_type": "display_data"
    }
   ],
   "source": [
    "df.plot(kind = 'scatter', x = 'SDIST', y = 'DTUP')"
   ]
  },
  {
   "cell_type": "code",
   "execution_count": 22,
   "metadata": {},
   "outputs": [],
   "source": [
    "import matplotlib.pyplot as plt"
   ]
  },
  {
   "cell_type": "code",
   "execution_count": 23,
   "metadata": {
    "scrolled": true
   },
   "outputs": [
    {
     "data": {
      "image/png": "[encoded data removed]",
      "text/plain": [
       "<Figure size 720x720 with 4 Axes>"
      ]
     },
     "metadata": {
      "needs_background": "light"
     },
     "output_type": "display_data"
    }
   ],
   "source": [
    "fig, ax = plt.subplots(nrows = 2, ncols = 2, figsize = (10,10))\n",
    "\n",
    "df['DTUP'].hist(ax = ax[0,0])\n",
    "\n",
    "bed_stat['DTUP'].plot.bar(ax = ax[0,1])\n",
    "\n",
    "bed_count.plot.pie(ax = ax[1,0])\n",
    "\n",
    "df.plot.scatter(x = 'SDIST', y = 'DTUP', ax = ax[1,1])\n",
    "\n",
    "plt.savefig('four_subplots.png', dpi = 200)"
   ]
  },
  {
   "cell_type": "markdown",
   "metadata": {},
   "source": [
    "## Splitting Data"
   ]
  },
  {
   "cell_type": "code",
   "execution_count": 24,
   "metadata": {},
   "outputs": [],
   "source": [
    "from sklearn.model_selection import train_test_split\n",
    "\n",
    "X_train, X_test, y_train, y_test = train_test_split(df[['SDIST', 'FAREA', 'BED', 'BATH', 'LIV', 'DIST_CBD',\n",
    "       'DIST_CENTER', 'BN500']], df['DTUP'], random_state = 10987)"
   ]
  },
  {
   "cell_type": "markdown",
   "metadata": {},
   "source": [
    "## Choosing and Creating a Model"
   ]
  },
  {
   "cell_type": "code",
   "execution_count": 25,
   "metadata": {},
   "outputs": [],
   "source": [
    "from sklearn.linear_model import LinearRegression\n",
    "\n",
    "lm = LinearRegression()"
   ]
  },
  {
   "cell_type": "markdown",
   "metadata": {},
   "source": [
    "## Training"
   ]
  },
  {
   "cell_type": "code",
   "execution_count": 26,
   "metadata": {},
   "outputs": [
    {
     "data": {
      "text/plain": [
       "LinearRegression(copy_X=True, fit_intercept=True, n_jobs=None, normalize=False)"
      ]
     },
     "execution_count": 26,
     "metadata": {},
     "output_type": "execute_result"
    }
   ],
   "source": [
    "lm.fit(X_train, y_train)"
   ]
  },
  {
   "cell_type": "code",
   "execution_count": 27,
   "metadata": {
    "scrolled": true
   },
   "outputs": [
    {
     "data": {
      "text/plain": [
       "array([-1.64760285e+00, -9.71596161e+01, -6.10975600e+01,  4.08886871e+03,\n",
       "        2.05150986e+03,  5.29878709e-01, -1.55969511e+00, -2.75108020e+01])"
      ]
     },
     "execution_count": 27,
     "metadata": {},
     "output_type": "execute_result"
    }
   ],
   "source": [
    "lm.coef_"
   ]
  },
  {
   "cell_type": "markdown",
   "metadata": {},
   "source": [
    "## Testing"
   ]
  },
  {
   "cell_type": "code",
   "execution_count": 28,
   "metadata": {},
   "outputs": [],
   "source": [
    "y_pred = lm.predict(X_test)"
   ]
  },
  {
   "cell_type": "code",
   "execution_count": 29,
   "metadata": {},
   "outputs": [
    {
     "data": {
      "text/plain": [
       "173844069.0561523"
      ]
     },
     "execution_count": 29,
     "metadata": {},
     "output_type": "execute_result"
    }
   ],
   "source": [
    "from sklearn.metrics import mean_squared_error\n",
    "mean_squared_error(y_test, y_pred)"
   ]
  },
  {
   "cell_type": "code",
   "execution_count": 30,
   "metadata": {},
   "outputs": [
    {
     "data": {
      "text/plain": [
       "0.29950883048232413"
      ]
     },
     "execution_count": 30,
     "metadata": {},
     "output_type": "execute_result"
    }
   ],
   "source": [
    "lm.score(X_test, y_test)"
   ]
  },
  {
   "cell_type": "code",
   "execution_count": 31,
   "metadata": {},
   "outputs": [
    {
     "data": {
      "text/plain": [
       "0.29950883048232413"
      ]
     },
     "execution_count": 31,
     "metadata": {},
     "output_type": "execute_result"
    }
   ],
   "source": [
    "from sklearn.metrics import r2_score\n",
    "r2_score(y_test, y_pred)"
   ]
  }
 ],
 "metadata": {
  "kernelspec": {
   "display_name": "Python 3",
   "language": "python",
   "name": "python3"
  },
  "language_info": {
   "codemirror_mode": {
    "name": "ipython",
    "version": 3
   },
   "file_extension": ".py",
   "mimetype": "text/x-python",
   "name": "python",
   "nbconvert_exporter": "python",
   "pygments_lexer": "ipython3",
   "version": "3.7.6"
  }
 },
 "nbformat": 4,
 "nbformat_minor": 4
}
